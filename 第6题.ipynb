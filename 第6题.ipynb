{
 "cells": [
  {
   "cell_type": "code",
   "execution_count": 1,
   "metadata": {
    "collapsed": true
   },
   "outputs": [],
   "source": [
    "import warnings\n",
    "\n",
    "warnings.filterwarnings('ignore')"
   ]
  },
  {
   "cell_type": "markdown",
   "metadata": {},
   "source": [
    "########BTCUSDT:binance数据"
   ]
  },
  {
   "cell_type": "code",
   "execution_count": 2,
   "metadata": {},
   "outputs": [
    {
     "name": "stdout",
     "output_type": "stream",
     "text": [
      "5.394744157791138\n"
     ]
    }
   ],
   "source": [
    "from jaqs_fxdayu.data.dataservice import LocalDataService\n",
    "ds = LocalDataService()\n",
    "from time import time\n",
    "## 加freq参数\n",
    "\n",
    "start = time()\n",
    "path = r'./VnTrader_1Min_Db'\n",
    "props = {'fields': 'open,high,low,close,volume','symbol': 'BTCUSDT:binance', 'freq': '4H',\n",
    "         'start_date':20180601000000}\n",
    "\n",
    "Time_dict = ds.bar_reader(path,props)\n",
    "print(time()-start)"
   ]
  },
  {
   "cell_type": "code",
   "execution_count": 3,
   "metadata": {
    "collapsed": true
   },
   "outputs": [],
   "source": [
    "from jaqs_fxdayu.data.hf_dataview import HFDataView\n",
    "dv = HFDataView()"
   ]
  },
  {
   "cell_type": "code",
   "execution_count": 4,
   "metadata": {},
   "outputs": [
    {
     "name": "stdout",
     "output_type": "stream",
     "text": [
      "Initialize dataview success.\n"
     ]
    }
   ],
   "source": [
    "dv.create_init_dv(Time_dict.set_index([\"trade_date\",\"symbol\"]))"
   ]
  },
  {
   "cell_type": "markdown",
   "metadata": {},
   "source": [
    "WVAD因子"
   ]
  },
  {
   "cell_type": "code",
   "execution_count": 5,
   "metadata": {
    "collapsed": true
   },
   "outputs": [],
   "source": [
    "Wvad_j = dv.add_formula('Wvad_j', \"Ts_Sum(((close-open)/(high-low))*volume,24)\" ,\n",
    "                             add_data=True)\n",
    "Ma6wvad_j = dv.add_formula('Ma6wvad_j', 'Ts_Mean(Wvad_j,6)',add_data=True)\n",
    "Ma24wvad_j = dv.add_formula('Ma24wvad_j', 'Ts_Mean(Wvad_j,24)', add_data=True)"
   ]
  },
  {
   "cell_type": "code",
   "execution_count": 6,
   "metadata": {},
   "outputs": [],
   "source": [
    "long = dv.add_formula('long',\"If(((Ma6wvad_j>=0)&&(Ma6wvad_j>Ma24wvad_j)&&(Delay(Ma6wvad_j,1)<=0))||((Ma24wvad_j>=0)&&(Ma6wvad_j>Ma24wvad_j)&&(Delay(Ma6wvad_j,1)<Delay(Ma24wvad_j,1))), 2, 0)\", add_data=True)\n",
    "short = dv.add_formula('short',\"If(((Ma6wvad_j<Ma24wvad_j)&&(Ma6wvad_j<=0)&&(Delay(Ma6wvad_j,1)>=0))||((Ma24wvad_j<=0)&&(Ma6wvad_j<Ma24wvad_j)&&(Delay(Ma6wvad_j,1)>Delay(Ma24wvad_j,1))), -2, 0)\", add_data=True)\n",
    "closeLong = dv.add_formula('closeLong',\"If((Ma24wvad_j>=0)&&(Ma6wvad_j<Ma24wvad_j)&&(Delay(Ma6wvad_j,1)>Delay(Ma24wvad_j,1)),1,0)\", add_data=True)\n",
    "closeShort = dv.add_formula(\"closeShort\",\"If((Ma24wvad_j<=0)&&(Ma6wvad_j>Ma24wvad_j)&&(Delay(Ma6wvad_j,1)<Delay(Ma24wvad_j,1)),-1,0)\", add_data=True)"
   ]
  },
  {
   "cell_type": "code",
   "execution_count": 7,
   "metadata": {},
   "outputs": [
    {
     "name": "stdout",
     "output_type": "stream",
     "text": [
      "Nan Data Count (should be zero) : 0;  Percentage of effective data: 2%\n",
      "Nan Data Count (should be zero) : 0;  Percentage of effective data: 1%\n"
     ]
    }
   ],
   "source": [
    "from jaqs_fxdayu.research import TimingDigger\n",
    "\n",
    "tdMaStatistic = TimingDigger(output_folder=\".\", output_format='pdf',signal_name='MaStatistic')\n",
    "\n",
    "def TimingSignal(td, dv, mhp=None,sl=None,sp=None):\n",
    "    # step 1：实例化TimingDigger 通过output_folder和output_format指定测试报告的输出路径和输出格式，通过signal_name指定绩效文件名称\n",
    "\n",
    "\n",
    "    #多空分别计算一遍 输出汇总结果\n",
    "    td.process_signal(\n",
    "        enter_signal=dv.get_ts(\"long\"),\n",
    "        exit_signal=dv.get_ts(\"closeLong\"),\n",
    "        sig_type=\"long\",  # 信号类型 long/short\n",
    "        price=dv.get_ts(\"close\"),\n",
    "        max_holding_period=mhp,  # 最大持有天数 可为空\n",
    "        stoploss=-sl,  # 止损百分比 负数 可为空\n",
    "        stopprofit=sp,  # 止盈百分比 正数 可为空\n",
    "    )\n",
    "\n",
    "    td.process_signal(\n",
    "        enter_signal=dv.get_ts(\"short\"),\n",
    "        exit_signal=dv.get_ts(\"closeShort\"),\n",
    "        sig_type=\"short\",  # 信号类型 long/short\n",
    "        price=dv.get_ts(\"close\"),\n",
    "        max_holding_period=mhp,  # 最大持有天数 可为空\n",
    "        stoploss=-sl,  # 止损百分比 负数 可为空\n",
    "        stopprofit=sp,  # 止盈百分比 正数 可为空\n",
    "    )\n",
    "TimingSignal(tdMaStatistic, dv, 100, 0.05, 0.7)"
   ]
  },
  {
   "cell_type": "code",
   "execution_count": 8,
   "metadata": {},
   "outputs": [
    {
     "name": "stdout",
     "output_type": "stream",
     "text": [
      "*****-Summary-*****\n",
      "Event Analysis\n",
      "                      win   loss     all\n",
      "t-stat              1.520 -4.712  -0.201\n",
      "p-value             0.189  0.005   0.844\n",
      "mean                0.036 -0.042  -0.003\n",
      "std                 0.053  0.020   0.056\n",
      "info_ratio          0.680 -2.107  -0.061\n",
      "skewness            1.746 -0.137   1.522\n",
      "kurtosis            1.123 -0.424   2.440\n",
      "pct5                0.006 -0.071  -0.063\n",
      "pct25               0.009 -0.049  -0.042\n",
      "pct50               0.014 -0.042  -0.002\n",
      "pct75               0.020 -0.035   0.013\n",
      "pct95               0.120 -0.016   0.081\n",
      "occurance           6.000  6.000  12.000\n",
      "win_ratio             NaN    NaN   0.500\n",
      "win_mean/loss_mean    NaN    NaN   0.841\n"
     ]
    }
   ],
   "source": [
    "tdMaStatistic.create_event_report(sig_type=\"long\")"
   ]
  },
  {
   "cell_type": "code",
   "execution_count": 9,
   "metadata": {},
   "outputs": [
    {
     "name": "stdout",
     "output_type": "stream",
     "text": [
      "*****-Summary-*****\n",
      "Event Analysis\n",
      "                      win    loss    all\n",
      "t-stat              3.452 -11.525  2.031\n",
      "p-value             0.018   0.055  0.082\n",
      "mean                0.083  -0.036  0.054\n",
      "std                 0.054   0.003  0.070\n",
      "info_ratio          1.544 -11.525  0.768\n",
      "skewness           -0.126  -0.000  0.061\n",
      "kurtosis           -1.504  -2.000 -1.467\n",
      "pct5                0.014  -0.039 -0.037\n",
      "pct25               0.033  -0.038  0.002\n",
      "pct50               0.088  -0.036  0.049\n",
      "pct75               0.131  -0.034  0.107\n",
      "pct95               0.149  -0.033  0.148\n",
      "occurance           6.000   2.000  8.000\n",
      "win_ratio             NaN     NaN  0.750\n",
      "win_mean/loss_mean    NaN     NaN  2.316\n"
     ]
    }
   ],
   "source": [
    "tdMaStatistic.create_event_report(sig_type=\"short\")"
   ]
  },
  {
   "cell_type": "code",
   "execution_count": 10,
   "metadata": {},
   "outputs": [
    {
     "name": "stdout",
     "output_type": "stream",
     "text": [
      "*****-Summary-*****\n",
      "Event Analysis\n",
      "                       win   loss     all\n",
      "t-stat               3.383 -6.091   1.247\n",
      "p-value              0.006  0.000   0.227\n",
      "mean                 0.060 -0.041   0.019\n",
      "std                  0.058  0.018   0.068\n",
      "info_ratio           1.020 -2.302   0.286\n",
      "skewness             0.615 -0.404   0.796\n",
      "kurtosis            -1.359  0.322  -0.488\n",
      "pct5                 0.006 -0.068  -0.053\n",
      "pct25                0.014 -0.045  -0.034\n",
      "pct50                0.019 -0.041   0.010\n",
      "pct75                0.107 -0.033   0.037\n",
      "pct95                0.151 -0.018   0.150\n",
      "occurance           12.000  8.000  20.000\n",
      "win_ratio              NaN    NaN   0.600\n",
      "win_mean/loss_mean     NaN    NaN   1.458\n"
     ]
    }
   ],
   "source": [
    "tdMaStatistic.create_event_report(sig_type=\"long_short\")#BTCUSDT:binance WVAD因子结果"
   ]
  },
  {
   "cell_type": "markdown",
   "metadata": {},
   "source": [
    "MACD加大阳线（阴线）因子"
   ]
  },
  {
   "cell_type": "code",
   "execution_count": 11,
   "metadata": {
    "collapsed": true
   },
   "outputs": [],
   "source": [
    "Diff_J = dv.add_formula('Diff_J',\"Ta('EMA',0,0,0,0,close,0,12)-Ta('EMA',0,0,0,0,close,0,26)\" , add_data=True)\n",
    "DEA_J = dv.add_formula('DEA_J', \"Ta('EMA',0,0,0,0,Diff_J,0,9)\", add_data=True)"
   ]
  },
  {
   "cell_type": "code",
   "execution_count": 12,
   "metadata": {
    "collapsed": true
   },
   "outputs": [],
   "source": [
    "MACD=dv.add_formula('MACD','Diff_J-DEA_J', add_data=True)"
   ]
  },
  {
   "cell_type": "code",
   "execution_count": 13,
   "metadata": {},
   "outputs": [
    {
     "name": "stdout",
     "output_type": "stream",
     "text": [
      "Field [long] is overwritten.\n",
      "Field [short] is overwritten.\n",
      "Field [closeLong] is overwritten.\n",
      "Field [closeShort] is overwritten.\n"
     ]
    }
   ],
   "source": [
    "long = dv.add_formula('long','If(((close/open>1.03)&&(high/low<(close/open+0.02)))&&((MACD>=0)&&(Delay(MACD,1)<=0)),2,0)', add_data=True)\n",
    "short = dv.add_formula('short','If(((close/open<0.97)&&(high/low<(open/close+0.02)))&&((MACD<=0)&&(Delay(MACD,1)>=0)),-2,0)', add_data=True)\n",
    "closeLong = dv.add_formula('closeLong','If(((close/open<0.98)&&(high/low<(open/close+0.02)))&&((MACD<=0)&&(Delay(MACD,1)>=0)),1,0)', add_data=True)\n",
    "closeShort = dv.add_formula(\"closeShort\",'If(((close/open>1.02)&&(high/low<(close/open+0.02)))&&((MACD>=0)&&(Delay(MACD,1)<=0)),-1,0)', add_data=True)"
   ]
  },
  {
   "cell_type": "code",
   "execution_count": 14,
   "metadata": {},
   "outputs": [
    {
     "name": "stdout",
     "output_type": "stream",
     "text": [
      "Nan Data Count (should be zero) : 0;  Percentage of effective data: 0%\n",
      "Nan Data Count (should be zero) : 0;  Percentage of effective data: 1%\n"
     ]
    }
   ],
   "source": [
    "from jaqs_fxdayu.research import TimingDigger\n",
    "\n",
    "tdMaStatistic = TimingDigger(output_folder=\".\", output_format='pdf',signal_name='MaStatistic')\n",
    "\n",
    "def TimingSignal(td, dv, mhp=None,sl=None,sp=None):\n",
    "    # step 1：实例化TimingDigger 通过output_folder和output_format指定测试报告的输出路径和输出格式，通过signal_name指定绩效文件名称\n",
    "\n",
    "\n",
    "    #多空分别计算一遍 输出汇总结果\n",
    "    td.process_signal(\n",
    "        enter_signal=dv.get_ts(\"long\"),\n",
    "        exit_signal=dv.get_ts(\"closeLong\"),\n",
    "        sig_type=\"long\",  # 信号类型 long/short\n",
    "        price=dv.get_ts(\"close\"),\n",
    "        max_holding_period=mhp,  # 最大持有天数 可为空\n",
    "        stoploss=-sl,  # 止损百分比 负数 可为空\n",
    "        stopprofit=sp,  # 止盈百分比 正数 可为空\n",
    "    )\n",
    "\n",
    "    td.process_signal(\n",
    "        enter_signal=dv.get_ts(\"short\"),\n",
    "        exit_signal=dv.get_ts(\"closeShort\"),\n",
    "        sig_type=\"short\",  # 信号类型 long/short\n",
    "        price=dv.get_ts(\"close\"),\n",
    "        max_holding_period=mhp,  # 最大持有天数 可为空\n",
    "        stoploss=-sl,  # 止损百分比 负数 可为空\n",
    "        stopprofit=sp,  # 止盈百分比 正数 可为空\n",
    "    )\n",
    "TimingSignal(tdMaStatistic, dv, 100, 0.1, 0.7)"
   ]
  },
  {
   "cell_type": "code",
   "execution_count": 15,
   "metadata": {},
   "outputs": [
    {
     "name": "stdout",
     "output_type": "stream",
     "text": [
      "*****-Summary-*****\n",
      "Event Analysis\n",
      "                      win  loss    all\n",
      "t-stat              1.529   NaN  1.529\n",
      "p-value             0.369   NaN  0.369\n",
      "mean                0.139   NaN  0.139\n",
      "std                 0.091   NaN  0.091\n",
      "info_ratio          1.529   NaN  1.529\n",
      "skewness            0.000   NaN  0.000\n",
      "kurtosis           -2.000   NaN -2.000\n",
      "pct5                0.057   NaN  0.057\n",
      "pct25               0.093   NaN  0.093\n",
      "pct50               0.139   NaN  0.139\n",
      "pct75               0.184   NaN  0.184\n",
      "pct95               0.220   NaN  0.220\n",
      "occurance           2.000   NaN  2.000\n",
      "win_ratio             NaN   NaN  1.000\n",
      "win_mean/loss_mean    NaN   NaN    NaN\n"
     ]
    }
   ],
   "source": [
    "tdMaStatistic.create_event_report(sig_type=\"long\")"
   ]
  },
  {
   "cell_type": "code",
   "execution_count": 16,
   "metadata": {},
   "outputs": [
    {
     "name": "stdout",
     "output_type": "stream",
     "text": [
      "*****-Summary-*****\n",
      "Event Analysis\n",
      "                       win   loss    all\n",
      "t-stat              11.066 -5.730 -0.110\n",
      "p-value              0.057  0.110  0.920\n",
      "mean                 0.088 -0.100 -0.006\n",
      "std                  0.008  0.017  0.095\n",
      "info_ratio          11.066 -5.730 -0.063\n",
      "skewness             0.000  0.000 -0.040\n",
      "kurtosis            -2.000 -2.000 -1.920\n",
      "pct5                 0.081 -0.115 -0.112\n",
      "pct25                0.084 -0.108 -0.091\n",
      "pct50                0.088 -0.100 -0.001\n",
      "pct75                0.092 -0.091  0.084\n",
      "pct95                0.095 -0.084  0.093\n",
      "occurance            2.000  2.000  4.000\n",
      "win_ratio              NaN    NaN  0.500\n",
      "win_mean/loss_mean     NaN    NaN  0.880\n"
     ]
    }
   ],
   "source": [
    "tdMaStatistic.create_event_report(sig_type=\"short\")"
   ]
  },
  {
   "cell_type": "code",
   "execution_count": 17,
   "metadata": {},
   "outputs": [
    {
     "name": "stdout",
     "output_type": "stream",
     "text": [
      "*****-Summary-*****\n",
      "Event Analysis\n",
      "                      win   loss    all\n",
      "t-stat              2.831 -5.730  0.817\n",
      "p-value             0.066  0.110  0.451\n",
      "mean                0.113 -0.100  0.042\n",
      "std                 0.069  0.017  0.116\n",
      "info_ratio          1.634 -5.730  0.365\n",
      "skewness            0.940  0.000  0.085\n",
      "kurtosis           -0.807 -2.000 -1.021\n",
      "pct5                0.053 -0.115 -0.108\n",
      "pct25               0.072 -0.108 -0.050\n",
      "pct50               0.088 -0.100  0.064\n",
      "pct75               0.129 -0.091  0.092\n",
      "pct95               0.209 -0.084  0.196\n",
      "occurance           4.000  2.000  6.000\n",
      "win_ratio             NaN    NaN  0.667\n",
      "win_mean/loss_mean    NaN    NaN  1.135\n"
     ]
    }
   ],
   "source": [
    "tdMaStatistic.create_event_report(sig_type=\"long_short\") #BTCUSDT:binance MACD因子结果"
   ]
  },
  {
   "cell_type": "markdown",
   "metadata": {},
   "source": [
    "#############EOSUSDT:binance数据"
   ]
  },
  {
   "cell_type": "code",
   "execution_count": 18,
   "metadata": {
    "collapsed": true
   },
   "outputs": [],
   "source": [
    "from jaqs_fxdayu.data.dataservice import LocalDataService\n",
    "ds = LocalDataService()\n",
    "from time import time\n",
    "## 加freq参数\n",
    "\n",
    "start = time()\n",
    "path = r'./VnTrader_1Min_Db'\n",
    "props = {'fields': 'open,high,low,close,volume','symbol': 'EOSUSDT:binance', 'freq': '4H',\n",
    "         'start_date':20180601000000}\n",
    "\n",
    "Time_dict = ds.bar_reader(path,props)"
   ]
  },
  {
   "cell_type": "code",
   "execution_count": 19,
   "metadata": {},
   "outputs": [
    {
     "name": "stdout",
     "output_type": "stream",
     "text": [
      "Initialize dataview success.\n"
     ]
    }
   ],
   "source": [
    "dv.create_init_dv(Time_dict.set_index([\"trade_date\",\"symbol\"]))"
   ]
  },
  {
   "cell_type": "markdown",
   "metadata": {},
   "source": [
    "WVAD因子"
   ]
  },
  {
   "cell_type": "code",
   "execution_count": 20,
   "metadata": {
    "collapsed": true
   },
   "outputs": [],
   "source": [
    "Wvad_j = dv.add_formula('Wvad_j', \"Ts_Sum(((close-open)/(high-low))*volume,24)\" ,\n",
    "                             add_data=True)\n",
    "Ma6wvad_j = dv.add_formula('Ma6wvad_j', 'Ts_Mean(Wvad_j,6)',add_data=True)\n",
    "Ma24wvad_j = dv.add_formula('Ma24wvad_j', 'Ts_Mean(Wvad_j,24)', add_data=True)"
   ]
  },
  {
   "cell_type": "code",
   "execution_count": 21,
   "metadata": {
    "collapsed": true
   },
   "outputs": [],
   "source": [
    "long = dv.add_formula('long',\"If(((Ma24wvad_j>=0)&&(Ma6wvad_j>Ma24wvad_j)&&(Delay(Ma6wvad_j,1)<Delay(Ma24wvad_j,1))), 2, 0)\", add_data=True)\n",
    "short = dv.add_formula('short',\"If((Ma24wvad_j<=0)&&((Ma6wvad_j<Ma24wvad_j)&&(Delay(Ma6wvad_j,1)>Delay(Ma24wvad_j,1))), -2, 0)\", add_data=True)\n",
    "closeLong = dv.add_formula('closeLong',\"If(short==-2,1,0)\", add_data=True)\n",
    "closeShort = dv.add_formula(\"closeShort\",\"If(long==2,-1,0)\", add_data=True)"
   ]
  },
  {
   "cell_type": "code",
   "execution_count": 22,
   "metadata": {},
   "outputs": [
    {
     "name": "stdout",
     "output_type": "stream",
     "text": [
      "Nan Data Count (should be zero) : 0;  Percentage of effective data: 0%\n",
      "Nan Data Count (should be zero) : 0;  Percentage of effective data: 1%\n"
     ]
    }
   ],
   "source": [
    "from jaqs_fxdayu.research import TimingDigger\n",
    "\n",
    "tdMaStatistic = TimingDigger(output_folder=\".\", output_format='pdf',signal_name='MaStatistic')\n",
    "\n",
    "def TimingSignal(td, dv, mhp=None,sl=None,sp=None):\n",
    "    # step 1：实例化TimingDigger 通过output_folder和output_format指定测试报告的输出路径和输出格式，通过signal_name指定绩效文件名称\n",
    "\n",
    "\n",
    "    #多空分别计算一遍 输出汇总结果\n",
    "    td.process_signal(\n",
    "        enter_signal=dv.get_ts(\"long\"),\n",
    "        exit_signal=dv.get_ts(\"closeLong\"),\n",
    "        sig_type=\"long\",  # 信号类型 long/short\n",
    "        price=dv.get_ts(\"close\"),\n",
    "        max_holding_period=mhp,  # 最大持有天数 可为空\n",
    "        stoploss=-sl,  # 止损百分比 负数 可为空\n",
    "        stopprofit=sp,  # 止盈百分比 正数 可为空\n",
    "    )\n",
    "\n",
    "    td.process_signal(\n",
    "        enter_signal=dv.get_ts(\"short\"),\n",
    "        exit_signal=dv.get_ts(\"closeShort\"),\n",
    "        sig_type=\"short\",  # 信号类型 long/short\n",
    "        price=dv.get_ts(\"close\"),\n",
    "        max_holding_period=mhp,  # 最大持有天数 可为空\n",
    "        stoploss=-sl,  # 止损百分比 负数 可为空\n",
    "        stopprofit=sp,  # 止盈百分比 正数 可为空\n",
    "    )\n",
    "TimingSignal(tdMaStatistic, dv, 100, 0.05, 0.7)"
   ]
  },
  {
   "cell_type": "code",
   "execution_count": 23,
   "metadata": {},
   "outputs": [
    {
     "name": "stdout",
     "output_type": "stream",
     "text": [
      "*****-Summary-*****\n",
      "Event Analysis\n",
      "                    win      loss       all\n",
      "t-stat              NaN       NaN       NaN\n",
      "p-value             NaN       NaN       NaN\n",
      "mean                NaN -0.108000 -0.108000\n",
      "std                 NaN  0.000000  0.000000\n",
      "info_ratio          NaN      -inf      -inf\n",
      "skewness            NaN  0.000000  0.000000\n",
      "kurtosis            NaN -3.000000 -3.000000\n",
      "pct5                NaN -0.108000 -0.108000\n",
      "pct25               NaN -0.108000 -0.108000\n",
      "pct50               NaN -0.108000 -0.108000\n",
      "pct75               NaN -0.108000 -0.108000\n",
      "pct95               NaN -0.108000 -0.108000\n",
      "occurance           NaN  1.000000  1.000000\n",
      "win_ratio           NaN       NaN       NaN\n",
      "win_mean/loss_mean  NaN       NaN       NaN\n"
     ]
    }
   ],
   "source": [
    "tdMaStatistic.create_event_report(sig_type=\"long\")"
   ]
  },
  {
   "cell_type": "code",
   "execution_count": 24,
   "metadata": {},
   "outputs": [
    {
     "name": "stdout",
     "output_type": "stream",
     "text": [
      "*****-Summary-*****\n",
      "Event Analysis\n",
      "                      win      loss    all\n",
      "t-stat              7.317       NaN  3.130\n",
      "p-value             0.002       NaN  0.026\n",
      "mean                0.157 -0.052000  0.122\n",
      "std                 0.043  0.000000  0.087\n",
      "info_ratio          3.658      -inf  1.400\n",
      "skewness           -0.720  0.000000 -1.106\n",
      "kurtosis           -0.477 -3.000000 -0.121\n",
      "pct5                0.095 -0.052000 -0.019\n",
      "pct25               0.151 -0.052000  0.098\n",
      "pct50               0.167 -0.052000  0.159\n",
      "pct75               0.175 -0.052000  0.173\n",
      "pct95               0.203 -0.052000  0.202\n",
      "occurance           5.000  1.000000  6.000\n",
      "win_ratio             NaN       NaN  0.833\n",
      "win_mean/loss_mean    NaN       NaN  3.009\n"
     ]
    }
   ],
   "source": [
    "tdMaStatistic.create_event_report(sig_type=\"short\")"
   ]
  },
  {
   "cell_type": "code",
   "execution_count": 25,
   "metadata": {},
   "outputs": [
    {
     "name": "stdout",
     "output_type": "stream",
     "text": [
      "*****-Summary-*****\n",
      "Event Analysis\n",
      "                      win   loss    all\n",
      "t-stat              7.317 -2.849  1.913\n",
      "p-value             0.002  0.215  0.104\n",
      "mean                0.157 -0.080  0.089\n",
      "std                 0.043  0.028  0.114\n",
      "info_ratio          3.658 -2.849  0.781\n",
      "skewness           -0.720 -0.000 -0.711\n",
      "kurtosis           -0.477 -2.000 -1.107\n",
      "pct5                0.095 -0.106 -0.092\n",
      "pct25               0.151 -0.094  0.014\n",
      "pct50               0.167 -0.080  0.151\n",
      "pct75               0.175 -0.066  0.171\n",
      "pct95               0.203 -0.055  0.200\n",
      "occurance           5.000  2.000  7.000\n",
      "win_ratio             NaN    NaN  0.714\n",
      "win_mean/loss_mean    NaN    NaN  1.953\n"
     ]
    }
   ],
   "source": [
    "tdMaStatistic.create_event_report(sig_type=\"long_short\")#EOSUSDT:binance WVAD因子结果"
   ]
  },
  {
   "cell_type": "code",
   "execution_count": 26,
   "metadata": {
    "collapsed": true
   },
   "outputs": [],
   "source": [
    "Diff_J = dv.add_formula('Diff_J',\"Ta('EMA',0,0,0,0,close,0,12)-Ta('EMA',0,0,0,0,close,0,26)\" , add_data=True)\n",
    "DEA_J = dv.add_formula('DEA_J', \"Ta('EMA',0,0,0,0,Diff_J,0,9)\", add_data=True)"
   ]
  },
  {
   "cell_type": "code",
   "execution_count": 27,
   "metadata": {
    "collapsed": true
   },
   "outputs": [],
   "source": [
    "MACD=dv.add_formula('MACD','Diff_J-DEA_J', add_data=True)"
   ]
  },
  {
   "cell_type": "code",
   "execution_count": 28,
   "metadata": {},
   "outputs": [
    {
     "name": "stdout",
     "output_type": "stream",
     "text": [
      "Field [long] is overwritten.\n",
      "Field [short] is overwritten.\n",
      "Field [closeLong] is overwritten.\n",
      "Field [closeShort] is overwritten.\n"
     ]
    }
   ],
   "source": [
    "long = dv.add_formula('long','If(((close/open>1.03)&&(high/low<(close/open+0.02)))&&((MACD>=0)&&(Delay(MACD,1)<=0)),2,0)', add_data=True)\n",
    "short = dv.add_formula('short','If(((close/open<0.98)&&(high/low<(open/close+0.02)))&&((MACD<=0)&&(Delay(MACD,1)>=0)),-2,0)', add_data=True)\n",
    "closeLong = dv.add_formula('closeLong','If(((close/open<0.98)&&(high/low<(open/close+0.02)))&&((MACD<=0)&&(Delay(MACD,1)>=0)),1,0)', add_data=True)\n",
    "closeShort = dv.add_formula(\"closeShort\",'If(((close/open>1.02)&&(high/low<(close/open+0.02)))&&((MACD>=0)&&(Delay(MACD,1)<=0)),-1,0)', add_data=True)"
   ]
  },
  {
   "cell_type": "code",
   "execution_count": 29,
   "metadata": {},
   "outputs": [
    {
     "name": "stdout",
     "output_type": "stream",
     "text": [
      "Nan Data Count (should be zero) : 0;  Percentage of effective data: 0%\n",
      "Nan Data Count (should be zero) : 0;  Percentage of effective data: 1%\n"
     ]
    }
   ],
   "source": [
    "from jaqs_fxdayu.research import TimingDigger\n",
    "\n",
    "tdMaStatistic = TimingDigger(output_folder=\".\", output_format='pdf',signal_name='MaStatistic')\n",
    "\n",
    "def TimingSignal(td, dv, mhp=None,sl=None,sp=None):\n",
    "    # step 1：实例化TimingDigger 通过output_folder和output_format指定测试报告的输出路径和输出格式，通过signal_name指定绩效文件名称\n",
    "\n",
    "\n",
    "    #多空分别计算一遍 输出汇总结果\n",
    "    td.process_signal(\n",
    "        enter_signal=dv.get_ts(\"long\"),\n",
    "        exit_signal=dv.get_ts(\"closeLong\"),\n",
    "        sig_type=\"long\",  # 信号类型 long/short\n",
    "        price=dv.get_ts(\"close\"),\n",
    "        max_holding_period=mhp,  # 最大持有天数 可为空\n",
    "        stoploss=-sl,  # 止损百分比 负数 可为空\n",
    "        stopprofit=sp,  # 止盈百分比 正数 可为空\n",
    "    )\n",
    "\n",
    "    td.process_signal(\n",
    "        enter_signal=dv.get_ts(\"short\"),\n",
    "        exit_signal=dv.get_ts(\"closeShort\"),\n",
    "        sig_type=\"short\",  # 信号类型 long/short\n",
    "        price=dv.get_ts(\"close\"),\n",
    "        max_holding_period=mhp,  # 最大持有天数 可为空\n",
    "        stoploss=-sl,  # 止损百分比 负数 可为空\n",
    "        stopprofit=sp,  # 止盈百分比 正数 可为空\n",
    "    )\n",
    "TimingSignal(tdMaStatistic, dv, 100, 0.05, 0.7)"
   ]
  },
  {
   "cell_type": "code",
   "execution_count": 30,
   "metadata": {},
   "outputs": [
    {
     "name": "stdout",
     "output_type": "stream",
     "text": [
      "*****-Summary-*****\n",
      "Event Analysis\n",
      "                    win      loss       all\n",
      "t-stat              NaN       NaN       NaN\n",
      "p-value             NaN       NaN       NaN\n",
      "mean                NaN -0.070000 -0.070000\n",
      "std                 NaN  0.000000  0.000000\n",
      "info_ratio          NaN      -inf      -inf\n",
      "skewness            NaN  0.000000  0.000000\n",
      "kurtosis            NaN -3.000000 -3.000000\n",
      "pct5                NaN -0.070000 -0.070000\n",
      "pct25               NaN -0.070000 -0.070000\n",
      "pct50               NaN -0.070000 -0.070000\n",
      "pct75               NaN -0.070000 -0.070000\n",
      "pct95               NaN -0.070000 -0.070000\n",
      "occurance           NaN  1.000000  1.000000\n",
      "win_ratio           NaN       NaN       NaN\n",
      "win_mean/loss_mean  NaN       NaN       NaN\n"
     ]
    }
   ],
   "source": [
    "tdMaStatistic.create_event_report(sig_type=\"long\")"
   ]
  },
  {
   "cell_type": "code",
   "execution_count": 31,
   "metadata": {},
   "outputs": [
    {
     "name": "stdout",
     "output_type": "stream",
     "text": [
      "*****-Summary-*****\n",
      "Event Analysis\n",
      "                      win   loss    all\n",
      "t-stat              2.445 -4.886  1.177\n",
      "p-value             0.058  0.039  0.273\n",
      "mean                0.137 -0.088  0.062\n",
      "std                 0.125  0.026  0.148\n",
      "info_ratio          1.093 -3.455  0.416\n",
      "skewness            1.326 -0.046  0.965\n",
      "kurtosis            0.402 -1.500  0.428\n",
      "pct5                0.028 -0.117 -0.107\n",
      "pct25               0.052 -0.104 -0.058\n",
      "pct50               0.109 -0.088  0.042\n",
      "pct75               0.138 -0.073  0.137\n",
      "pct95               0.333 -0.061  0.294\n",
      "occurance           6.000  3.000  9.000\n",
      "win_ratio             NaN    NaN  0.667\n",
      "win_mean/loss_mean    NaN    NaN  1.544\n"
     ]
    }
   ],
   "source": [
    "tdMaStatistic.create_event_report(sig_type=\"short\")"
   ]
  },
  {
   "cell_type": "code",
   "execution_count": 32,
   "metadata": {},
   "outputs": [
    {
     "name": "stdout",
     "output_type": "stream",
     "text": [
      "*****-Summary-*****\n",
      "Event Analysis\n",
      "                      win   loss     all\n",
      "t-stat              2.445 -6.172   0.996\n",
      "p-value             0.058  0.009   0.345\n",
      "mean                0.137 -0.084   0.048\n",
      "std                 0.125  0.024   0.146\n",
      "info_ratio          1.093 -3.563   0.332\n",
      "skewness            1.326 -0.517   1.105\n",
      "kurtosis            0.402 -1.161   0.686\n",
      "pct5                0.028 -0.115  -0.106\n",
      "pct25               0.052 -0.096  -0.067\n",
      "pct50               0.109 -0.079   0.033\n",
      "pct75               0.138 -0.067   0.123\n",
      "pct95               0.333 -0.059   0.281\n",
      "occurance           6.000  4.000  10.000\n",
      "win_ratio             NaN    NaN   0.600\n",
      "win_mean/loss_mean    NaN    NaN   1.628\n"
     ]
    }
   ],
   "source": [
    "tdMaStatistic.create_event_report(sig_type=\"long_short\")#EOSUSDT:binance MACD因子结果"
   ]
  },
  {
   "cell_type": "code",
   "execution_count": null,
   "metadata": {
    "collapsed": true
   },
   "outputs": [],
   "source": []
  }
 ],
 "metadata": {
  "kernelspec": {
   "display_name": "Python 3",
   "language": "python",
   "name": "python3"
  },
  "language_info": {
   "codemirror_mode": {
    "name": "ipython",
    "version": 3
   },
   "file_extension": ".py",
   "mimetype": "text/x-python",
   "name": "python",
   "nbconvert_exporter": "python",
   "pygments_lexer": "ipython3",
   "version": "3.6.2"
  }
 },
 "nbformat": 4,
 "nbformat_minor": 2
}
